{
  "nbformat": 4,
  "nbformat_minor": 0,
  "metadata": {
    "colab": {
      "name": "Analyze eval results.ipynb",
      "provenance": [],
      "collapsed_sections": []
    },
    "kernelspec": {
      "name": "python3",
      "display_name": "Python 3"
    },
    "language_info": {
      "name": "python"
    }
  },
  "cells": [
    {
      "cell_type": "markdown",
      "metadata": {
        "id": "mxmqy9_pJegP"
      },
      "source": [
        "This notebook is designed for running in [Colab](https://colab.sandbox.google.com/). Some features will not function if you run it in other environments."
      ]
    },
    {
      "cell_type": "markdown",
      "metadata": {
        "id": "1blGyYDCZR74"
      },
      "source": [
        "##Preparation:\n",
        "\n",
        "In `planning-evaluation-framework`, run\n",
        "\n",
        "`python3 src/data_generators/synthetic_data_design_generator.py  \\\n",
        "--output_dir=eval_analysis_example/data \\\n",
        "--data_design=src/data_generators/analysis_example_data_design.py`\n",
        "\n",
        "Then\n",
        "\n",
        "`python3 src/driver/experiment_driver.py  \\\n",
        "--data_design_dir=eval_analysis_example/data \\\n",
        "--experimental_design=src/driver/analysis_example_experimental_design.py \\\n",
        "--output_file=eval_analysis_example/result \\\n",
        "--intermediates_dir=eval_analysis_example/intermediates \\\n",
        "--seed=1\n",
        "`\n",
        "\n",
        "We'll obtain a `result` file in the `eval_analysis_example` folder.\n",
        "\n",
        "In Colab, click the Files tab on the left sidebar, upload `result`, and we're good to run the following codes."
      ]
    },
    {
      "cell_type": "markdown",
      "metadata": {
        "id": "3fP1a68AHiia"
      },
      "source": [
        "Google internal only: See a sample result file here: https://drive.google.com/corp/drive/folders/1qQJpmZU39N2pp9aK3tV1NsAfZ9GFlB38?resourcekey=0-8S_QmKHUSjNXi9R_FfQF-Q\n"
      ]
    },
    {
      "cell_type": "code",
      "metadata": {
        "id": "rcm_747X6V3p",
        "cellView": "form"
      },
      "source": [
        "#@title Import and read file  {form-width:\"30%\"}\n",
        "#@markdown Double click the text area to hide / show codes\n",
        "\n",
        "import pandas as pd\n",
        "import matplotlib.pyplot as plt\n",
        "import seaborn as sns\n",
        "from IPython import display\n",
        "from math import ceil\n",
        "\n",
        "file_name = 'result' #@param {type: 'string'}\n",
        "df = pd.read_csv('result')"
      ],
      "execution_count": null,
      "outputs": []
    },
    {
      "cell_type": "code",
      "metadata": {
        "colab": {
          "base_uri": "https://localhost:8080/"
        },
        "id": "UkbbqrrFyBt1",
        "outputId": "97498aac-8e41-42f8-c1c0-1b55393aaa1f"
      },
      "source": [
        "# Number of rows and columsn in the data frame\n",
        "df.shape"
      ],
      "execution_count": null,
      "outputs": [
        {
          "output_type": "execute_result",
          "data": {
            "text/plain": [
              "(3072, 41)"
            ]
          },
          "metadata": {
            "tags": []
          },
          "execution_count": 3
        }
      ]
    },
    {
      "cell_type": "markdown",
      "metadata": {
        "id": "qydtEnAh578E"
      },
      "source": [
        "#1. Look at model success rate and what model exceptions we got"
      ]
    },
    {
      "cell_type": "code",
      "metadata": {
        "colab": {
          "base_uri": "https://localhost:8080/"
        },
        "id": "VBJlvwYY6FDY",
        "outputId": "9c443bc0-26f1-4d4e-bbff-8811fdf5a60c"
      },
      "source": [
        "df['model_succeeded'].mean()"
      ],
      "execution_count": null,
      "outputs": [
        {
          "output_type": "execute_result",
          "data": {
            "text/plain": [
              "0.5930989583333334"
            ]
          },
          "metadata": {
            "tags": []
          },
          "execution_count": 4
        }
      ]
    },
    {
      "cell_type": "code",
      "metadata": {
        "colab": {
          "base_uri": "https://localhost:8080/"
        },
        "id": "f6Pd_h0J6Pvb",
        "outputId": "e70a6d14-f728-47d6-a34e-65284206ce77"
      },
      "source": [
        "df['model_exception'].value_counts() / len(df)"
      ],
      "execution_count": null,
      "outputs": [
        {
          "output_type": "execute_result",
          "data": {
            "text/plain": [
              "array must not contain infs or NaNs    0.315104\n",
              "float division by zero                 0.091797\n",
              "Name: model_exception, dtype: float64"
            ]
          },
          "metadata": {
            "tags": []
          },
          "execution_count": 5
        }
      ]
    },
    {
      "cell_type": "markdown",
      "metadata": {
        "id": "OI2mOXco65zq"
      },
      "source": [
        "#2. Aggregation of performance metrics"
      ]
    },
    {
      "cell_type": "code",
      "metadata": {
        "id": "5uophfyE9kKS",
        "colab": {
          "base_uri": "https://localhost:8080/",
          "height": 351
        },
        "cellView": "form",
        "outputId": "a91aae4a-1dbc-485c-9fe7-9ce80c629149"
      },
      "source": [
        "#@title {form-width:\"20%\"}\n",
        "#@markdown ## Variables to group by\n",
        "\n",
        "#@markdown #### Model parameters\n",
        "class ModelVariables:\n",
        "  single_pub_model = True #@param{type:\"boolean\"}\n",
        "  multi_pub_model = True #@param{type:\"boolean\"}\n",
        "  strategy = False #@param{type:\"boolean\"}\n",
        "\n",
        "#@markdown #### Data parameters\n",
        "class DataVariables:\n",
        "  ncampaigns = False #@param{type:\"boolean\"}\n",
        "  largest_pub_reach = True #@param{type:\"boolean\"}\n",
        "  #@markdown <sup> (Note: There are two other data variables `dataset` and `maximum_reach` in the dataframe. They are omitted here since they are not appropriate variabels for group by.  </sup>\n",
        "\n",
        "#@markdown #### System parameters\n",
        "class SystemVariables:\n",
        "  liquid_legions_sketch_size = False #@param{type:\"boolean\"}\n",
        "  liquid_legions_decay_rate = False #@param{type:\"boolean\"}\n",
        "\n",
        "#@markdown #### Experiment parameters\n",
        "class ExperimentalVariables:\n",
        "  max_frequency = False #@param{type:\"boolean\"}\n",
        "  privacy_budget_epsilon = True #@param{type:\"boolean\"}\n",
        "  privacy_budget_delta = True #@param{type:\"boolean\"}\n",
        "  privacy_mechanisms = False #@param{type:\"boolean\"}\n",
        "  #@markdown <sup> (Note: There are three other experimental variables in the dataframe. They are omitted here since they are not appropriate variabels for group by.  </sup>\n",
        "\n",
        "#@markdown ## Aggregation criterion\n",
        "criterion = 'mean' #@param ['mean', 'median', 'max']\n",
        "\n",
        "\n",
        "#@markdown ## Performance metrics to aggregate\n",
        "class PerformanceMetrics:\n",
        "  model_succeeded = True #@param{type:\"boolean\"}\n",
        "  mean_error = False #@param{type:\"boolean\"}\n",
        "  mean_abs_error = False #@param{type:\"boolean\"}\n",
        "  mean_squared_error = False #@param{type:\"boolean\"}\n",
        "  mean_abs_relative_error = True #@param{type:\"boolean\"}\n",
        "  mean_squared_relative_error = True #@param{type:\"boolean\"}\n",
        "  var_error = False #@param{type:\"boolean\"}\n",
        "  var_relative_error = False #@param{type:\"boolean\"}\n",
        "  relative_error_q10 = False #@param{type:\"boolean\"}\n",
        "  relative_error_q20 = False #@param{type:\"boolean\"}\n",
        "  relative_error_q30 = False #@param{type:\"boolean\"}\n",
        "  relative_error_q40 = False #@param{type:\"boolean\"}\n",
        "  relative_error_q50 = False #@param{type:\"boolean\"}\n",
        "  relative_error_q60 = False #@param{type:\"boolean\"}\n",
        "  relative_error_q70 = False #@param{type:\"boolean\"}\n",
        "  relative_error_q80 = False #@param{type:\"boolean\"}\n",
        "  relative_error_q90 = False #@param{type:\"boolean\"}\n",
        "  mean_shuffle_distance = False #@param{type:\"boolean\"}\n",
        "  mean_squared_shuffle_distance = False #@param{type:\"boolean\"}\n",
        "  var_shuffle_distance = False #@param{type:\"boolean\"}\n",
        "\n",
        "def get_selected_attr_names(vars):\n",
        "  candidate = [name for name in dir(vars) if not name.startswith('__')]\n",
        "  return [name for name in candidate if getattr(vars, name)]\n",
        "\n",
        "group_by_vars = (get_selected_attr_names(ModelVariables) + \n",
        "                 get_selected_attr_names(DataVariables) +\n",
        "                 get_selected_attr_names(SystemVariables) + \n",
        "                 get_selected_attr_names(ExperimentalVariables))\n",
        "metrics = get_selected_attr_names(PerformanceMetrics)\n",
        "\n",
        "pd.set_option('display.max_rows', 500)\n",
        "pd.set_option('display.max_columns', 100)\n",
        "df.groupby(group_by_vars)[metrics].agg(criterion)"
      ],
      "execution_count": null,
      "outputs": [
        {
          "output_type": "execute_result",
          "data": {
            "text/html": [
              "<div>\n",
              "<style scoped>\n",
              "    .dataframe tbody tr th:only-of-type {\n",
              "        vertical-align: middle;\n",
              "    }\n",
              "\n",
              "    .dataframe tbody tr th {\n",
              "        vertical-align: top;\n",
              "    }\n",
              "\n",
              "    .dataframe thead th {\n",
              "        text-align: right;\n",
              "    }\n",
              "</style>\n",
              "<table border=\"1\" class=\"dataframe\">\n",
              "  <thead>\n",
              "    <tr style=\"text-align: right;\">\n",
              "      <th></th>\n",
              "      <th></th>\n",
              "      <th></th>\n",
              "      <th></th>\n",
              "      <th></th>\n",
              "      <th>mean_abs_relative_error</th>\n",
              "      <th>mean_squared_relative_error</th>\n",
              "      <th>model_succeeded</th>\n",
              "    </tr>\n",
              "    <tr>\n",
              "      <th>multi_pub_model</th>\n",
              "      <th>single_pub_model</th>\n",
              "      <th>largest_pub_reach</th>\n",
              "      <th>privacy_budget_delta</th>\n",
              "      <th>privacy_budget_epsilon</th>\n",
              "      <th></th>\n",
              "      <th></th>\n",
              "      <th></th>\n",
              "    </tr>\n",
              "  </thead>\n",
              "  <tbody>\n",
              "    <tr>\n",
              "      <th rowspan=\"8\" valign=\"top\">restricted_pairwise_union</th>\n",
              "      <th rowspan=\"4\" valign=\"top\">gamma_poisson</th>\n",
              "      <th rowspan=\"2\" valign=\"top\">1000</th>\n",
              "      <th rowspan=\"2\" valign=\"top\">1.000000e-09</th>\n",
              "      <th>0.1</th>\n",
              "      <td>1.598717</td>\n",
              "      <td>4.121578e+03</td>\n",
              "      <td>0.244792</td>\n",
              "    </tr>\n",
              "    <tr>\n",
              "      <th>1.0</th>\n",
              "      <td>1.139839</td>\n",
              "      <td>1.954511e+03</td>\n",
              "      <td>0.723958</td>\n",
              "    </tr>\n",
              "    <tr>\n",
              "      <th rowspan=\"2\" valign=\"top\">1100</th>\n",
              "      <th rowspan=\"2\" valign=\"top\">1.000000e-09</th>\n",
              "      <th>0.1</th>\n",
              "      <td>1.516984</td>\n",
              "      <td>4.071856e+03</td>\n",
              "      <td>0.208333</td>\n",
              "    </tr>\n",
              "    <tr>\n",
              "      <th>1.0</th>\n",
              "      <td>1.222106</td>\n",
              "      <td>2.394133e+03</td>\n",
              "      <td>0.723958</td>\n",
              "    </tr>\n",
              "    <tr>\n",
              "      <th rowspan=\"4\" valign=\"top\">goerg</th>\n",
              "      <th rowspan=\"2\" valign=\"top\">1000</th>\n",
              "      <th rowspan=\"2\" valign=\"top\">1.000000e-09</th>\n",
              "      <th>0.1</th>\n",
              "      <td>16.153526</td>\n",
              "      <td>7.217666e+07</td>\n",
              "      <td>0.390625</td>\n",
              "    </tr>\n",
              "    <tr>\n",
              "      <th>1.0</th>\n",
              "      <td>3.364061</td>\n",
              "      <td>5.391753e+05</td>\n",
              "      <td>1.000000</td>\n",
              "    </tr>\n",
              "    <tr>\n",
              "      <th rowspan=\"2\" valign=\"top\">1100</th>\n",
              "      <th rowspan=\"2\" valign=\"top\">1.000000e-09</th>\n",
              "      <th>0.1</th>\n",
              "      <td>41.804572</td>\n",
              "      <td>2.485697e+09</td>\n",
              "      <td>0.453125</td>\n",
              "    </tr>\n",
              "    <tr>\n",
              "      <th>1.0</th>\n",
              "      <td>3.559362</td>\n",
              "      <td>1.330929e+06</td>\n",
              "      <td>1.000000</td>\n",
              "    </tr>\n",
              "  </tbody>\n",
              "</table>\n",
              "</div>"
            ],
            "text/plain": [
              "                                                                                                          mean_abs_relative_error  \\\n",
              "multi_pub_model           single_pub_model largest_pub_reach privacy_budget_delta privacy_budget_epsilon                            \n",
              "restricted_pairwise_union gamma_poisson    1000              1.000000e-09         0.1                                    1.598717   \n",
              "                                                                                  1.0                                    1.139839   \n",
              "                                           1100              1.000000e-09         0.1                                    1.516984   \n",
              "                                                                                  1.0                                    1.222106   \n",
              "                          goerg            1000              1.000000e-09         0.1                                   16.153526   \n",
              "                                                                                  1.0                                    3.364061   \n",
              "                                           1100              1.000000e-09         0.1                                   41.804572   \n",
              "                                                                                  1.0                                    3.559362   \n",
              "\n",
              "                                                                                                          mean_squared_relative_error  \\\n",
              "multi_pub_model           single_pub_model largest_pub_reach privacy_budget_delta privacy_budget_epsilon                                \n",
              "restricted_pairwise_union gamma_poisson    1000              1.000000e-09         0.1                                    4.121578e+03   \n",
              "                                                                                  1.0                                    1.954511e+03   \n",
              "                                           1100              1.000000e-09         0.1                                    4.071856e+03   \n",
              "                                                                                  1.0                                    2.394133e+03   \n",
              "                          goerg            1000              1.000000e-09         0.1                                    7.217666e+07   \n",
              "                                                                                  1.0                                    5.391753e+05   \n",
              "                                           1100              1.000000e-09         0.1                                    2.485697e+09   \n",
              "                                                                                  1.0                                    1.330929e+06   \n",
              "\n",
              "                                                                                                          model_succeeded  \n",
              "multi_pub_model           single_pub_model largest_pub_reach privacy_budget_delta privacy_budget_epsilon                   \n",
              "restricted_pairwise_union gamma_poisson    1000              1.000000e-09         0.1                            0.244792  \n",
              "                                                                                  1.0                            0.723958  \n",
              "                                           1100              1.000000e-09         0.1                            0.208333  \n",
              "                                                                                  1.0                            0.723958  \n",
              "                          goerg            1000              1.000000e-09         0.1                            0.390625  \n",
              "                                                                                  1.0                            1.000000  \n",
              "                                           1100              1.000000e-09         0.1                            0.453125  \n",
              "                                                                                  1.0                            1.000000  "
            ]
          },
          "metadata": {
            "tags": []
          },
          "execution_count": 6
        }
      ]
    },
    {
      "cell_type": "markdown",
      "metadata": {
        "id": "yohqJO_P5lvQ"
      },
      "source": [
        "#3. Pick the best modeling strategy\n"
      ]
    },
    {
      "cell_type": "code",
      "metadata": {
        "id": "8cKRN4gO6GYB",
        "colab": {
          "base_uri": "https://localhost:8080/",
          "height": 853
        },
        "cellView": "form",
        "outputId": "ceb542ff-fdc3-4843-c8c3-9fd2cce350e0"
      },
      "source": [
        "#@title {form-width: '30%'}\n",
        "#@markdown ## Model variables to compare: \n",
        "class ModelVariablesToCompare:\n",
        "  single_pub_model = True #@param{type:\"boolean\"}\n",
        "  multi_pub_model = True #@param{type:\"boolean\"}\n",
        "  strategy = False #@param{type:\"boolean\"}\n",
        "\n",
        "#@markdown ## Compare in the scope of:\n",
        "#@markdown <sup> Note to use the following cell: \n",
        "#@markdown when you update a new dataframe, possibly the options, i.e.,\n",
        "#@markdown levels of some variables are changed.\n",
        "#@markdown In that case, go [here](https://colab.research.google.com/drive/1x0t13pdnqH8-hiVxWN9n8ikSiFE-3DFu?resourcekey=0-SqI4xjkF8jrb3b4MyU72kA#scrollTo=YhHL7GmPgPHH&line=10&uniqifier=1)\n",
        "#@markdown to update the dropdown menus.\n",
        "#@markdown Or you can manually input the option. (We will automatically handle the type of your input.)\n",
        "#@markdown In case you input or select an invalid option at some field, \n",
        "#@markdown an error will be raised to point you to the field.  </sup>\n",
        "#@markdown #### Data variables\n",
        "class DataOptions:\n",
        "  largest_pub_reach = 'all_options' #@param ['all_options', 1000, 1100] {allow-input: true}\n",
        "  ncampaigns = '2' #@param ['all_options', 2, 3] {allow-input: true}\n",
        "\n",
        "#@markdown #### System variables\n",
        "class SystemOptions:\n",
        "  liquid_legions_decay_rate = 'all_options' #@param ['all_options', 3] {allow-input: true}\n",
        "  liquid_legions_sketch_size = 'all_options' #@param ['all_options', 2000] {allow-input: true}\n",
        "\n",
        "#@markdown #### Experimental variables\n",
        "class ExperimentalOptions:\n",
        "  max_frequency = 'all_options' #@param ['all_options', 3, 6] {allow-input: true}\n",
        "  privacy_budget_delta = 'all_options' #@param ['all_options', 1e-09] {allow-input: true}\n",
        "  privacy_budget_epsilon = 'all_options' #@param ['all_options', 0.1, 1.0] {allow-input: true}\n",
        "  privacy_mechanisms = 'all_options' #@param ['all_options', 'Discrete Gaussian'] {allow-input: true}\n",
        "\n",
        "#@markdown ## Performance metrics to plot\n",
        "class PerformanceMetricsToPlot:\n",
        "  #@markdown model_succeeded will always be selected\n",
        "  mean_error = False #@param{type:\"boolean\"}\n",
        "  mean_abs_error = False #@param{type:\"boolean\"}\n",
        "  mean_squared_error = False #@param{type:\"boolean\"}\n",
        "  mean_abs_relative_error = True #@param{type:\"boolean\"}\n",
        "  mean_squared_relative_error = True #@param{type:\"boolean\"}\n",
        "  var_error = False #@param{type:\"boolean\"}\n",
        "  var_relative_error = False #@param{type:\"boolean\"}\n",
        "  relative_error_q10 = False #@param{type:\"boolean\"}\n",
        "  relative_error_q20 = False #@param{type:\"boolean\"}\n",
        "  relative_error_q30 = False #@param{type:\"boolean\"}\n",
        "  relative_error_q40 = False #@param{type:\"boolean\"}\n",
        "  relative_error_q50 = True #@param{type:\"boolean\"}\n",
        "  relative_error_q60 = False #@param{type:\"boolean\"}\n",
        "  relative_error_q70 = False #@param{type:\"boolean\"}\n",
        "  relative_error_q80 = False #@param{type:\"boolean\"}\n",
        "  relative_error_q90 = True #@param{type:\"boolean\"}\n",
        "  mean_shuffle_distance = False #@param{type:\"boolean\"}\n",
        "  mean_squared_shuffle_distance = False #@param{type:\"boolean\"}\n",
        "  var_shuffle_distance = False #@param{type:\"boolean\"}\n",
        "\n",
        "#@markdown ## Type of plot\n",
        "plot_type = 'histogram' #@param ['boxplot', 'histogram']\n",
        "\n",
        "\n",
        "### Verbose model options to compare\n",
        "\n",
        "class color:\n",
        "  PURPLE = '\\033[95m'\n",
        "  CYAN = '\\033[96m'\n",
        "  DARKCYAN = '\\033[36m'\n",
        "  BLUE = '\\033[94m'\n",
        "  GREEN = '\\033[92m'\n",
        "  YELLOW = '\\033[93m'\n",
        "  RED = '\\033[91m'\n",
        "  BOLD = '\\033[1m'\n",
        "  UNDERLINE = '\\033[4m'\n",
        "  END = '\\033[0m'\n",
        "\n",
        "def stylize(text):\n",
        "  return color.BLUE + color.BOLD + text + color.END\n",
        "\n",
        "\n",
        "model_vars = get_selected_attr_names(ModelVariablesToCompare)\n",
        "print('You selected to compare the options in the following model variables: '\n",
        "      + ', '.join([stylize(var) for var in model_vars]) + '.')\n",
        "\n",
        "actual_model_vars = []\n",
        "for var in model_vars:\n",
        "  options = df[var].unique()\n",
        "  if len(options) > 1:\n",
        "    actual_model_vars.append(var)\n",
        "    print(f'For {stylize(var)}, we compare {len(options)} options: ' + \n",
        "          ' vs '.join([stylize(str(opt)) for opt in options]) + '.')\n",
        "  else:\n",
        "    print(f'For {stylize(var)}, only one option {stylize(options[0])} is included '\n",
        "          'in this experiment, and there is no alternative option to compare.')\n",
        "\n",
        "### Verbose scope for comparison\n",
        "\n",
        "def select_rows_one_option_class(option_class, var_name):\n",
        "  opt = getattr(option_class, var_name)\n",
        "  if opt == 'all_options':\n",
        "    return None, True\n",
        "  try:\n",
        "    opt = type(df[var_name].iloc[0]) (opt)\n",
        "  except:\n",
        "    raise TypeError(\n",
        "        f'The input option of {var_name} cannot be converted to the '\n",
        "        'correct type. Please check.'\n",
        "    )\n",
        "  if not opt in df[var_name].unique():\n",
        "    raise ValueError(\n",
        "        f'The input option of {var_name} does not '\n",
        "        'match any record. Please manually input a valid option '\n",
        "        'or update the drop-down menus using the link '\n",
        "        'above this cell.'\n",
        "    )\n",
        "  return opt, df[var_name] == opt\n",
        "\n",
        "def select_rows_multiple_option_classes(class_ls):\n",
        "  condition = True\n",
        "  scope_verbose = []\n",
        "  for option_class in class_ls:\n",
        "    for name in dir(option_class):\n",
        "      if not name.startswith('__'):\n",
        "        opt, new_condition = select_rows_one_option_class(option_class, name)\n",
        "        if opt:\n",
        "          condition &= new_condition\n",
        "          scope_verbose.append(stylize(f'{name} = {opt}'))\n",
        "  return condition, scope_verbose\n",
        "\n",
        "\n",
        "rows, verbose = select_rows_multiple_option_classes(\n",
        "    [DataOptions, SystemOptions, ExperimentalOptions])\n",
        "\n",
        "if len(verbose):\n",
        "  print('The comparison is done in the experimental trials with: ' +\n",
        "        ' & '.join(verbose) + '.')\n",
        "else:\n",
        "  print('The comparison is done in all the experimental trials.')\n",
        "\n",
        "### Print comparison results\n",
        "print('\\nFirst compare the success rate:')\n",
        "agg = df[rows].groupby(model_vars)['model_succeeded'].agg(['sum', 'mean'])\n",
        "agg.columns = ['num_succeeded_trials', 'success_rate']\n",
        "display.display(agg)\n",
        "\n",
        "print('\\nThen, among the succeeded trials, compare each selected '\n",
        "      'error metric between different model options.')\n",
        "\n",
        "df_plot = df.copy()\n",
        "df_plot['model_option'] = ''\n",
        "for var in actual_model_vars:\n",
        "  df_plot['model_option'] += ', ' + df_plot[var]\n",
        "\n",
        "all_metrics = get_selected_attr_names(PerformanceMetricsToPlot)\n",
        "num_plots = len(all_metrics)\n",
        "plot_cols = 3\n",
        "plot_rows = ceil(num_plots / plot_cols)\n",
        "fig, axes = plt.subplots(plot_rows, plot_cols, figsize=(18, 10))\n",
        "count = 0\n",
        "for metric in all_metrics:\n",
        "  ub = min(df_plot[metric].max(), df_plot[metric].quantile(0.9) * 2)\n",
        "  if plot_type == 'boxplot':\n",
        "    sns.boxplot(x='model_option', y=metric, data=df_plot)\n",
        "    plt.ylim(0, ub)\n",
        "    # plt.show()\n",
        "  else:\n",
        "    sns.histplot(x=metric, hue='model_option', data=df_plot, binrange=(0, ub),\n",
        "                 ax=axes[count // plot_cols, count % plot_cols])\n",
        "    # plt.show()\n",
        "  count += 1"
      ],
      "execution_count": null,
      "outputs": [
        {
          "output_type": "stream",
          "text": [
            "You selected to compare the options in the following model variables: \u001b[94m\u001b[1mmulti_pub_model\u001b[0m, \u001b[94m\u001b[1msingle_pub_model\u001b[0m.\n",
            "For \u001b[94m\u001b[1mmulti_pub_model\u001b[0m, only one option \u001b[94m\u001b[1mrestricted_pairwise_union\u001b[0m is included in this experiment, and there is no alternative option to compare.\n",
            "For \u001b[94m\u001b[1msingle_pub_model\u001b[0m, we compare 2 options: \u001b[94m\u001b[1mgoerg\u001b[0m vs \u001b[94m\u001b[1mgamma_poisson\u001b[0m.\n",
            "The comparison is done in the experimental trials with: \u001b[94m\u001b[1mncampaigns = 2\u001b[0m.\n",
            "\n",
            "First compare the success rate:\n"
          ],
          "name": "stdout"
        },
        {
          "output_type": "display_data",
          "data": {
            "text/html": [
              "<div>\n",
              "<style scoped>\n",
              "    .dataframe tbody tr th:only-of-type {\n",
              "        vertical-align: middle;\n",
              "    }\n",
              "\n",
              "    .dataframe tbody tr th {\n",
              "        vertical-align: top;\n",
              "    }\n",
              "\n",
              "    .dataframe thead th {\n",
              "        text-align: right;\n",
              "    }\n",
              "</style>\n",
              "<table border=\"1\" class=\"dataframe\">\n",
              "  <thead>\n",
              "    <tr style=\"text-align: right;\">\n",
              "      <th></th>\n",
              "      <th></th>\n",
              "      <th>num_succeeded_trials</th>\n",
              "      <th>success_rate</th>\n",
              "    </tr>\n",
              "    <tr>\n",
              "      <th>multi_pub_model</th>\n",
              "      <th>single_pub_model</th>\n",
              "      <th></th>\n",
              "      <th></th>\n",
              "    </tr>\n",
              "  </thead>\n",
              "  <tbody>\n",
              "    <tr>\n",
              "      <th rowspan=\"2\" valign=\"top\">restricted_pairwise_union</th>\n",
              "      <th>gamma_poisson</th>\n",
              "      <td>446</td>\n",
              "      <td>0.580729</td>\n",
              "    </tr>\n",
              "    <tr>\n",
              "      <th>goerg</th>\n",
              "      <td>606</td>\n",
              "      <td>0.789062</td>\n",
              "    </tr>\n",
              "  </tbody>\n",
              "</table>\n",
              "</div>"
            ],
            "text/plain": [
              "                                            num_succeeded_trials  success_rate\n",
              "multi_pub_model           single_pub_model                                    \n",
              "restricted_pairwise_union gamma_poisson                      446      0.580729\n",
              "                          goerg                              606      0.789062"
            ]
          },
          "metadata": {
            "tags": []
          }
        },
        {
          "output_type": "stream",
          "text": [
            "\n",
            "Then, among the succeeded trials, compare each selected error metric between different model options.\n"
          ],
          "name": "stdout"
        },
        {
          "output_type": "display_data",
          "data": {
            "image/png": "[encoded data removed]",
            "text/plain": [
              "<Figure size 1296x720 with 6 Axes>"
            ]
          },
          "metadata": {
            "tags": [],
            "needs_background": "light"
          }
        }
      ]
    },
    {
      "cell_type": "markdown",
      "metadata": {
        "id": "U-NpLb5aempj"
      },
      "source": [
        "# Draft: some hacks I used to write the script..."
      ]
    },
    {
      "cell_type": "code",
      "metadata": {
        "cellView": "form",
        "id": "lMeIJXlWel_p"
      },
      "source": [
        "#@title For section 2 {form-width: '20%'}\n",
        "\n",
        "raw_codes = '''\n",
        "model_parameters = ['single_pub_model', 'multi_pub_model', ' strategy']\n",
        "\n",
        "data_parameters = ['dataset', 'ncampaigns', 'largest_pub_reach', 'maximum_reach']\n",
        "\n",
        "system_parameters = ['liquid_legions_sketch_size', 'liquid_legions_decay_rate']\n",
        "\n",
        "experiment_parameters = [\n",
        "  'max_frequency',\n",
        "  'privacy_budget_epsilon',\n",
        "  'privacy_budget_delta',\n",
        "  'privacy_used_epsilon',\n",
        "  'privacy_used_delta',\n",
        "  'privacy_mechanisms',\n",
        "  'npoints']\n",
        "\n",
        "error_metrics = [\n",
        "  'mean_error',\n",
        "  'mean_abs_error',\n",
        "  'mean_squared_error',\n",
        "  'mean_abs_relative_error',\n",
        "  'mean_squared_relative_error',\n",
        "  'var_error',\n",
        "  'var_relative_error',\n",
        "  'relative_error_q10',\n",
        "  'relative_error_q20',\n",
        "  'relative_error_q30',\n",
        "  'relative_error_q40',\n",
        "  'relative_error_q50',\n",
        "  'relative_error_q60',\n",
        "  'relative_error_q70',\n",
        "  'relative_error_q80',\n",
        "  'relative_error_q90',\n",
        "  'mean_shuffle_distance',\n",
        "  'mean_squared_shuffle_distance',\n",
        "  'var_shuffle_distance']\n",
        "'''\n",
        "\n",
        "strings = raw_codes.split('\\n\\n')\n",
        "\n",
        "def mark(string, section_layer):\n",
        "  section_sign = ''.join(['#'] * section_layer)\n",
        "  return ' '.join(['#@markdown', section_sign, string])\n",
        "\n",
        "fixed_piece = ' = True #@param' + '{type:\"boolean\"}'\n",
        "\n",
        "new_codes = '#@title' +  ' {form-width:\"20%\"}' + '\\n'\n",
        "new_codes += mark('Variables to group by', 2)\n",
        "new_codes += '\\n'\n",
        "\n",
        "\n",
        "for string in strings:\n",
        "  if len(string) > 0:\n",
        "    # First remove new line, space, and quote sign\n",
        "    chars_to_remove = [' ', '\\n', '\\'', '[', ']']\n",
        "    for char in chars_to_remove:\n",
        "      string = string.replace(char, '')\n",
        "    var, levels = string.split('=')\n",
        "    var = var.replace('_', ' ').capitalize()\n",
        "    if var == 'Error metrics':\n",
        "      new_codes += mark(var, 2)\n",
        "    else:\n",
        "      new_codes += mark(var, 4)\n",
        "    new_codes += '\\n'\n",
        "    new_codes += '\\n'.join([level + fixed_piece for level in levels.split(',')])\n",
        "    new_codes += '\\n\\n'"
      ],
      "execution_count": null,
      "outputs": []
    },
    {
      "cell_type": "code",
      "metadata": {
        "colab": {
          "base_uri": "https://localhost:8080/"
        },
        "cellView": "form",
        "id": "YhHL7GmPgPHH",
        "outputId": "cd676e07-8da3-4b86-d236-c91d3b6ea882"
      },
      "source": [
        "#@title For section 3 {form-width: '20%'}\n",
        "\n",
        "def var_write_options(col):\n",
        "  levels = df[col].unique()\n",
        "  all = '\\'all_options\\''\n",
        "  if type(levels[0]) == str:\n",
        "    str_levels = [all] + [f'\\'{l}\\'' for l in levels]\n",
        "  else:\n",
        "    str_levels = [all] + [str(l) for l in levels]\n",
        "  print(f'{col} = {all} ' + '#@param' +\n",
        "        ' [' + ', '.join(str_levels) + '] {allow-input: true}')\n",
        "\n",
        "def class_write_options(vars):\n",
        "  for col in [name for name in dir(vars) if not name.startswith('__')]:\n",
        "    var_write_options(col)\n",
        "\n",
        "#@markdown Paste the following three segments of outputs respectively to the `DataOptions`,\n",
        "#@markdown `SystemOptions` and `ExperimentOptions` classes in Section 3.\n",
        "class_write_options(DataVariables)\n",
        "print('\\n')\n",
        "class_write_options(SystemVariables)\n",
        "print('\\n')\n",
        "class_write_options(ExperimentalVariables)\n",
        "print('\\n')"
      ],
      "execution_count": null,
      "outputs": [
        {
          "output_type": "stream",
          "text": [
            "largest_pub_reach = 'all_options' #@param ['all_options', 1000, 1100] {allow-input: true}\n",
            "ncampaigns = 'all_options' #@param ['all_options', 2, 3] {allow-input: true}\n",
            "\n",
            "\n",
            "liquid_legions_decay_rate = 'all_options' #@param ['all_options', 3] {allow-input: true}\n",
            "liquid_legions_sketch_size = 'all_options' #@param ['all_options', 2000] {allow-input: true}\n",
            "\n",
            "\n",
            "max_frequency = 'all_options' #@param ['all_options', 3, 6] {allow-input: true}\n",
            "privacy_budget_delta = 'all_options' #@param ['all_options', 1e-09] {allow-input: true}\n",
            "privacy_budget_epsilon = 'all_options' #@param ['all_options', 0.1, 1.0] {allow-input: true}\n",
            "privacy_mechanisms = 'all_options' #@param ['all_options', 'Discrete Gaussian'] {allow-input: true}\n",
            "\n",
            "\n"
          ],
          "name": "stdout"
        }
      ]
    }
  ]
}